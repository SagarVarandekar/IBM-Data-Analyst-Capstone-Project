{
 "cells": [
  {
   "cell_type": "markdown",
   "metadata": {},
   "source": [
    "<p style=\"text-align:center\">\n",
    "    <a href=\"https://skills.network/?utm_medium=Exinfluencer&utm_source=Exinfluencer&utm_content=000026UJ&utm_term=10006555&utm_id=NA-SkillsNetwork-Channel-SkillsNetworkCoursesIBMDA0321ENSkillsNetwork21426264-2022-01-01\" target=\"_blank\">\n",
    "    <img src=\"https://cf-courses-data.s3.us.cloud-object-storage.appdomain.cloud/assets/logos/SN_web_lightmode.png\" width=\"200\" alt=\"Skills Network Logo\"  />\n",
    "    </a>\n",
    "</p>\n"
   ]
  },
  {
   "cell_type": "markdown",
   "metadata": {},
   "source": [
    "# **Collecting Job Data Using APIs**\n"
   ]
  },
  {
   "cell_type": "markdown",
   "metadata": {},
   "source": [
    "Estimated time needed: **45 to 60** minutes\n"
   ]
  },
  {
   "cell_type": "markdown",
   "metadata": {},
   "source": [
    "## Objectives\n"
   ]
  },
  {
   "cell_type": "markdown",
   "metadata": {},
   "source": [
    "After completing this lab, you will be able to:\n"
   ]
  },
  {
   "cell_type": "markdown",
   "metadata": {},
   "source": [
    "*   Collect job data from Jobs API\n",
    "*   Store the collected data into an excel spreadsheet.\n"
   ]
  },
  {
   "cell_type": "markdown",
   "metadata": {},
   "source": [
    "> <strong>Note: Before starting with the assignment make sure to read all the instructions and then move ahead with the coding part.</strong>\n"
   ]
  },
  {
   "cell_type": "markdown",
   "metadata": {},
   "source": [
    "#### Instructions\n"
   ]
  },
  {
   "cell_type": "markdown",
   "metadata": {},
   "source": [
    "To run the actual lab, firstly you need to click on the [Jobs_API](https://cf-courses-data.s3.us.cloud-object-storage.appdomain.cloud/IBM-DA0321EN-SkillsNetwork/labs/module%201/Accessing%20Data%20Using%20APIs/Jobs_API.ipynb) notebook link. The file contains flask code which is required to run the Jobs API data.\n",
    "\n",
    "Now, to run the code in the file that opens up follow the below steps.\n",
    "\n",
    "Step1: Download the file.\n",
    "\n",
    "Step2: Upload it on the IBM Watson studio. (If IBM Watson Cloud service does not work in your system, follow the alternate Step 2 below)\n",
    "\n",
    "Step2(alternate): Upload it in your SN labs environment using the upload button which is highlighted in red in the image below:\n",
    "Remember to upload this Jobs_API file in the same folder as your current .ipynb file\n",
    "\n",
    "<img src=\"https://cf-courses-data.s3.us.cloud-object-storage.appdomain.cloud/IBM-DA0321EN-SkillsNetwork/labs/module%201/Accessing%20Data%20Using%20APIs/Upload.PNG\" />\n",
    "\n",
    "Step3:  Run all the cells of the Jobs_API file. (Even if you receive an asterik sign after running the last cell, the code works fine.)\n",
    "\n",
    "If you want to learn more about flask, which is optional, you can click on this link [here](https://cf-courses-data.s3.us.cloud-object-storage.appdomain.cloud/IBM-DA0321EN-SkillsNetwork/labs/module%201/Accessing%20Data%20Using%20APIs/FLASK_API.md.html).\n",
    "\n",
    "Once you run the flask code, you can start with your assignment.\n"
   ]
  },
  {
   "cell_type": "markdown",
   "metadata": {},
   "source": [
    "## Dataset Used in this Assignment\n",
    "\n",
    "The dataset used in this lab comes from the following source: [https://www.kaggle.com/promptcloud/jobs-on-naukricom](https://www.kaggle.com/promptcloud/jobs-on-naukricom?utm_medium=Exinfluencer&utm_source=Exinfluencer&utm_content=000026UJ&utm_term=10006555&utm_id=NA-SkillsNetwork-Channel-SkillsNetworkCoursesIBMDA0321ENSkillsNetwork21426264-2022-01-01) under the under a **Public Domain license**.\n",
    "\n",
    "> Note: We are using a modified subset of that dataset for the lab, so to follow the lab instructions successfully please use the dataset provided with the lab, rather than the dataset from the original source.\n",
    "\n",
    "The original dataset is a csv. We have converted the csv to json as per the requirement of the lab.\n"
   ]
  },
  {
   "cell_type": "markdown",
   "metadata": {},
   "source": [
    "## Warm-Up Exercise\n"
   ]
  },
  {
   "cell_type": "markdown",
   "metadata": {},
   "source": [
    "Before you attempt the actual lab, here is a fully solved warmup exercise that will help you to learn how to access an API.\n"
   ]
  },
  {
   "cell_type": "markdown",
   "metadata": {},
   "source": [
    "Using an API, let us find out who currently are on the International Space Station (ISS).<br> The API at [http://api.open-notify.org/astros.json](http://api.open-notify.org/astros.json?utm_medium=Exinfluencer&utm_source=Exinfluencer&utm_content=000026UJ&utm_term=10006555&utm_id=NA-SkillsNetwork-Channel-SkillsNetworkCoursesIBMDA0321ENSkillsNetwork21426264-2021-01-01&cm_mmc=Email_Newsletter-\\_-Developer_Ed%2BTech-\\_-WW_WW-\\_-SkillsNetwork-Courses-IBM-DA0321EN-SkillsNetwork-21426264&cm_mmca1=000026UJ&cm_mmca2=10006555&cm_mmca3=M12345678&cvosrc=email.Newsletter.M12345678&cvo_campaign=000026UJ) gives us the information of astronauts currently on ISS in json format.<br>\n",
    "You can read more about this API at [http://open-notify.org/Open-Notify-API/People-In-Space/](http://open-notify.org/Open-Notify-API/People-In-Space?utm_medium=Exinfluencer&utm_source=Exinfluencer&utm_content=000026UJ&utm_term=10006555&utm_id=NA-SkillsNetwork-Channel-SkillsNetworkCoursesIBMDA0321ENSkillsNetwork21426264-2021-01-01&cm_mmc=Email_Newsletter-\\_-Developer_Ed%2BTech-\\_-WW_WW-\\_-SkillsNetwork-Courses-IBM-DA0321EN-SkillsNetwork-21426264&cm_mmca1=000026UJ&cm_mmca2=10006555&cm_mmca3=M12345678&cvosrc=email.Newsletter.M12345678&cvo_campaign=000026UJ)\n"
   ]
  },
  {
   "cell_type": "code",
   "execution_count": 2,
   "metadata": {},
   "outputs": [],
   "source": [
    "import requests # you need this module to make an API call\n",
    "import pandas as pd"
   ]
  },
  {
   "cell_type": "code",
   "execution_count": 3,
   "metadata": {},
   "outputs": [],
   "source": [
    "api_url = \"http://api.open-notify.org/astros.json\" # this url gives use the astronaut data"
   ]
  },
  {
   "cell_type": "code",
   "execution_count": 4,
   "metadata": {},
   "outputs": [],
   "source": [
    "response = requests.get(api_url) # Call the API using the get method and store the\n",
    "                                # output of the API call in a variable called response."
   ]
  },
  {
   "cell_type": "code",
   "execution_count": 5,
   "metadata": {},
   "outputs": [],
   "source": [
    "if response.ok:             # if all is well() no errors, no network timeouts)\n",
    "    data = response.json()  # store the result in json format in a variable called data\n",
    "                            # the variable data is of type dictionary."
   ]
  },
  {
   "cell_type": "code",
   "execution_count": null,
   "metadata": {},
   "outputs": [],
   "source": []
  },
  {
   "cell_type": "code",
   "execution_count": 6,
   "metadata": {},
   "outputs": [
    {
     "name": "stdout",
     "output_type": "stream",
     "text": [
      "{'number': 10, 'people': [{'name': 'Oleg Artemyev', 'craft': 'ISS'}, {'name': 'Denis Matveev', 'craft': 'ISS'}, {'name': 'Sergey Korsakov', 'craft': 'ISS'}, {'name': 'Kjell Lindgren', 'craft': 'ISS'}, {'name': 'Bob Hines', 'craft': 'ISS'}, {'name': 'Samantha Cristoforetti', 'craft': 'ISS'}, {'name': 'Jessica Watkins', 'craft': 'ISS'}, {'name': 'Cai Xuzhe', 'craft': 'Tiangong'}, {'name': 'Chen Dong', 'craft': 'Tiangong'}, {'name': 'Liu Yang', 'craft': 'Tiangong'}], 'message': 'success'}\n"
     ]
    }
   ],
   "source": [
    "print(data)   # print the data just to check the output or for debugging"
   ]
  },
  {
   "cell_type": "markdown",
   "metadata": {},
   "source": [
    "Print the number of astronauts currently on ISS.\n"
   ]
  },
  {
   "cell_type": "code",
   "execution_count": 7,
   "metadata": {},
   "outputs": [
    {
     "name": "stdout",
     "output_type": "stream",
     "text": [
      "10\n"
     ]
    }
   ],
   "source": [
    "print(data.get('number'))"
   ]
  },
  {
   "cell_type": "markdown",
   "metadata": {},
   "source": [
    "Print the names of the astronauts currently on ISS.\n"
   ]
  },
  {
   "cell_type": "code",
   "execution_count": 8,
   "metadata": {},
   "outputs": [
    {
     "name": "stdout",
     "output_type": "stream",
     "text": [
      "There are 10 astronauts on ISS\n",
      "And their names are :\n",
      "Oleg Artemyev\n",
      "Denis Matveev\n",
      "Sergey Korsakov\n",
      "Kjell Lindgren\n",
      "Bob Hines\n",
      "Samantha Cristoforetti\n",
      "Jessica Watkins\n",
      "Cai Xuzhe\n",
      "Chen Dong\n",
      "Liu Yang\n"
     ]
    }
   ],
   "source": [
    "astronauts = data.get('people')\n",
    "print(\"There are {} astronauts on ISS\".format(len(astronauts)))\n",
    "print(\"And their names are :\")\n",
    "for astronaut in astronauts:\n",
    "    print(astronaut.get('name'))"
   ]
  },
  {
   "cell_type": "markdown",
   "metadata": {},
   "source": [
    "Hope the warmup was helpful. Good luck with your next lab!\n"
   ]
  },
  {
   "cell_type": "markdown",
   "metadata": {},
   "source": [
    "## Lab: Collect Jobs Data using Jobs API\n"
   ]
  },
  {
   "cell_type": "markdown",
   "metadata": {},
   "source": [
    "### Objective: Determine the number of jobs currently open for various technologies  and for various locations\n"
   ]
  },
  {
   "cell_type": "markdown",
   "metadata": {},
   "source": [
    "Collect the number of job postings for the following locations using the API:\n",
    "\n",
    "*   Los Angeles\n",
    "*   New York\n",
    "*   San Francisco\n",
    "*   Washington DC\n",
    "*   Seattle\n",
    "*   Austin\n",
    "*   Detroit\n"
   ]
  },
  {
   "cell_type": "code",
   "execution_count": 9,
   "metadata": {},
   "outputs": [],
   "source": [
    "#Import required libraries\n",
    "import pandas as pd\n",
    "import json"
   ]
  },
  {
   "cell_type": "markdown",
   "metadata": {},
   "source": [
    "#### Write a function to get the number of jobs for the Python technology.<br>\n",
    "\n",
    "> Note: While using the lab you need to pass the **payload** information for the **params** attribute in the form of **key** **value** pairs.\n",
    "\n",
    "Refer the ungraded **rest api lab** in the course **Python for Data Science, AI & Development**  <a href=\"https://www.coursera.org/learn/python-for-applied-data-science-ai/ungradedLti/P6sW8/hands-on-lab-access-rest-apis-request-http?utm_medium=Exinfluencer&utm_source=Exinfluencer&utm_content=000026UJ&utm_term=10006555&utm_id=NA-SkillsNetwork-Channel-SkillsNetworkCoursesIBMDA0321ENSkillsNetwork21426264-2022-01-01\">link</a>\n",
    "\n",
    "##### The keys in the json are\n",
    "\n",
    "*   Job Title\n",
    "\n",
    "*   Job Experience Required\n",
    "\n",
    "*   Key Skills\n",
    "\n",
    "*   Role Category\n",
    "\n",
    "*   Location\n",
    "\n",
    "*   Functional Area\n",
    "\n",
    "*   Industry\n",
    "\n",
    "*   Role\n",
    "\n",
    "You can also view  the json file contents  from the following <a href = \"https://cf-courses-data.s3.us.cloud-object-storage.appdomain.cloud/IBM-DA0321EN-SkillsNetwork/labs/module%201/Accessing%20Data%20Using%20APIs/jobs.json?utm_medium=Exinfluencer&utm_source=Exinfluencer&utm_content=000026UJ&utm_term=10006555&utm_id=NA-SkillsNetwork-Channel-SkillsNetworkCoursesIBMDA0321ENSkillsNetwork21426264-2022-01-01\">json</a> URL.\n"
   ]
  },
  {
   "cell_type": "code",
   "execution_count": 29,
   "metadata": {},
   "outputs": [],
   "source": [
    "url='https://cf-courses-data.s3.us.cloud-object-storage.appdomain.cloud/IBM-DA0321EN-SkillsNetwork/labs/module%201/Accessing%20Data%20Using%20APIs/jobs.json?utm_medium=Exinfluencer&utm_source=Exinfluencer&utm_content=000026UJ&utm_term=10006555&utm_id=NA-SkillsNetwork-Channel-SkillsNetworkCoursesIBMDA0321ENSkillsNetwork21426264-2022-01-01'"
   ]
  },
  {
   "cell_type": "code",
   "execution_count": 33,
   "metadata": {},
   "outputs": [],
   "source": [
    "response=requests.get(url)\n",
    "jobs=response.json()"
   ]
  },
  {
   "cell_type": "code",
   "execution_count": 34,
   "metadata": {},
   "outputs": [],
   "source": [
    "api_url=\"http://127.0.0.1:5000/data\"\n",
    "def get_number_of_jobs_T(technology):\n",
    "    number_of_jobs = 0\n",
    "    payload={\"Key Skills\":technology}\n",
    "    r=requests.get(api_url,params=payload)\n",
    "    if r.ok: # if all is well() no errors, no network timeouts)\n",
    "        data = r.json() \n",
    "        number_of_jobs += len(data)\n",
    "    else:\n",
    "        number_of_jobs += len(data)     \n",
    "    return technology,number_of_jobs"
   ]
  },
  {
   "cell_type": "code",
   "execution_count": null,
   "metadata": {},
   "outputs": [],
   "source": []
  },
  {
   "cell_type": "code",
   "execution_count": 18,
   "metadata": {},
   "outputs": [
    {
     "name": "stdout",
     "output_type": "stream",
     "text": [
      "{'technology': {'0': 'java', '1': 'C', '2': 'C#', '3': 'C++', '4': 'Java', '5': 'JavaScript', '6': 'Python', '7': 'Scala', '8': 'Oracle', '9': 'SQL Server', '10': 'MySQL Server', '11': 'PostgreSQL', '12': 'MongoDB', '13': 'java', '14': 'C', '15': 'C#', '16': 'C++', '17': 'Java', '18': 'JavaScript', '19': 'Python', '20': 'Scala', '21': 'Oracle', '22': 'SQL Server', '23': 'MySQL Server', '24': 'PostgreSQL', '25': 'MongoDB', '26': 'C', '27': 'MySQL Server', '28': 'SQL Server', '29': 'PostgreSQL', '30': 'Java', '31': 'PostgreSQL', '32': 'Java', '33': 'C', '34': 'MongoDB', '35': 'Oracle', '36': 'PostgreSQL', '37': 'MongoDB', '38': 'MySQL Server', '39': 'Java', '40': 'JavaScript', '41': 'Python', '42': 'C', '43': 'MongoDB', '44': 'MySQL Server', '45': 'PostgreSQL', '46': 'Oracle', '47': 'Java', '48': 'JavaScript', '49': 'Java', '50': 'Java', '51': 'MySQL Server', '52': 'C++', '53': 'JavaScript', '54': 'MySQL Server', '55': 'PostgreSQL', '56': 'PostgreSQL', '57': 'Java', '58': 'Java', '59': 'C#', '60': 'Python', '61': 'SQL Server', '62': 'MySQL Server', '63': 'Java', '64': 'MySQL Server', '65': 'PostgreSQL', '66': 'Java', '67': 'C#', '68': 'PostgreSQL', '69': 'Oracle', '70': 'C#', '71': 'C#', '72': 'PostgreSQL', '73': 'Java', '74': 'JavaScript', '75': 'Java', '76': 'Oracle', '77': 'MySQL Server', '78': 'MySQL Server', '79': 'MySQL Server', '80': 'Java', '81': 'Java', '82': 'Oracle', '83': 'JavaScript', '84': 'PostgreSQL', '85': 'MongoDB', '86': 'Java', '87': 'MongoDB', '88': 'JavaScript', '89': 'C++', '90': 'Oracle', '91': 'MongoDB', '92': 'SQL Server', '93': 'C++', '94': 'Oracle', '95': 'JavaScript', '96': 'Java', '97': 'java', '98': 'MongoDB', '99': 'C#', '100': 'MySQL Server', '101': 'PostgreSQL', '102': 'MongoDB', '103': 'java', '104': 'Python', '105': 'Java', '106': 'MongoDB', '107': 'MongoDB', '108': 'C++', '109': 'MySQL Server', '110': 'Java', '111': 'PostgreSQL', '112': 'Python', '113': 'java', '114': 'SQL Server', '115': 'Java', '116': 'Python', '117': 'JavaScript', '118': 'PostgreSQL', '119': 'PostgreSQL', '120': 'C++', '121': 'MySQL Server', '122': 'MongoDB', '123': 'C#', '124': 'PostgreSQL', '125': 'PostgreSQL', '126': 'C++', '127': 'Oracle', '128': 'Python', '129': 'JavaScript', '130': 'MongoDB', '131': 'PostgreSQL', '132': 'MySQL Server', '133': 'C#', '134': 'MySQL Server', '135': 'PostgreSQL', '136': 'PostgreSQL', '137': 'MySQL Server', '138': 'Scala', '139': 'C++', '140': 'MongoDB', '141': 'C++', '142': 'MongoDB', '143': 'Java', '144': 'Java', '145': 'java', '146': 'SQL Server', '147': 'Python', '148': 'java', '149': 'SQL Server', '150': 'JavaScript', '151': 'JavaScript', '152': 'C#', '153': 'JavaScript', '154': 'Java', '155': 'PostgreSQL', '156': 'PostgreSQL', '157': 'Java', '158': 'C++', '159': 'JavaScript', '160': 'Java', '161': 'Oracle', '162': 'Python', '163': 'Oracle', '164': 'java', '165': 'C#', '166': 'Java', '167': 'PostgreSQL', '168': 'PostgreSQL', '169': 'Python', '170': 'Java', '171': 'MySQL Server', '172': 'C#', '173': 'Python', '174': 'Python', '175': 'SQL Server', '176': 'MongoDB', '177': 'Java', '178': 'C#', '179': 'MongoDB', '180': 'Oracle', '181': 'Python', '182': 'Scala', '183': 'PostgreSQL', '184': 'Scala', '185': 'C#', '186': 'Java', '187': 'Java', '188': 'C++', '189': 'Python', '190': 'MongoDB', '191': 'Java', '192': 'MongoDB', '193': 'C++', '194': 'PostgreSQL', '195': 'Java', '196': 'C#', '197': 'MySQL Server', '198': 'Oracle', '199': 'Java', '200': 'Java', '201': 'MongoDB', '202': 'Python', '203': 'SQL Server', '204': 'C', '205': 'Oracle', '206': 'Python', '207': 'Python', '208': 'MongoDB', '209': 'Scala', '210': 'PostgreSQL', '211': 'Oracle', '212': 'Java', '213': 'MongoDB', '214': 'C', '215': 'MongoDB', '216': 'Oracle', '217': 'Python', '218': 'Java', '219': 'MySQL Server', '220': 'JavaScript', '221': 'PostgreSQL', '222': 'Oracle', '223': 'Python', '224': 'Python', '225': 'JavaScript', '226': 'MongoDB', '227': 'Java', '228': 'MySQL Server', '229': 'JavaScript', '230': 'Java', '231': 'Oracle', '232': 'JavaScript', '233': 'PostgreSQL', '234': 'MySQL Server', '235': 'MySQL Server', '236': 'Oracle', '237': 'Scala', '238': 'Java', '239': 'C#', '240': 'Oracle', '241': 'Oracle', '242': 'java', '243': 'PostgreSQL', '244': 'MongoDB', '245': 'PostgreSQL', '246': 'MongoDB', '247': 'Scala', '248': 'MySQL Server', '249': 'Oracle', '250': 'Java', '251': 'C#', '252': 'PostgreSQL', '253': 'MongoDB', '254': 'Scala', '255': 'JavaScript'}, 'number of job posting': {'0': '1', '1': '10', '2': '1', '3': '1', '4': '2', '5': '4', '6': '1', '7': '5', '8': '0', '9': '1', '10': '0', '11': '1', '12': '0', '13': '1', '14': '20', '15': '2', '16': '3', '17': '2', '18': '3', '19': '2', '20': '7', '21': '0', '22': '1', '23': '0', '24': '1', '25': '0', '26': '26', '27': '0', '28': '1', '29': '0', '30': '2', '31': '0', '32': '2', '33': '15', '34': '0', '35': '1', '36': '0', '37': '1', '38': '0', '39': '1', '40': '2', '41': '5', '42': '40', '43': '1', '44': '0', '45': '0', '46': '1', '47': '6', '48': '4', '49': '8', '50': '1', '51': '0', '52': '2', '53': '4', '54': '0', '55': '1', '56': '1', '57': '2', '58': '3', '59': '1', '60': '2', '61': '2', '62': '1', '63': '1', '64': '1', '65': '0', '66': '1', '67': '0', '68': '0', '69': '1', '70': '1', '71': '0', '72': '0', '73': '2', '74': '2', '75': '1', '76': '0', '77': '1', '78': '0', '79': '0', '80': '2', '81': '3', '82': '0', '83': '5', '84': '0', '85': '2', '86': '2', '87': '2', '88': '3', '89': '2', '90': '0', '91': '1', '92': '1', '93': '2', '94': '0', '95': '2', '96': '2', '97': '1', '98': '1', '99': '0', '100': '0', '101': '0', '102': '1', '103': '2', '104': '7', '105': '1', '106': '1', '107': '0', '108': '2', '109': '1', '110': '2', '111': '0', '112': '2', '113': '1', '114': '2', '115': '2', '116': '2', '117': '3', '118': '0', '119': '1', '120': '2', '121': '0', '122': '1', '123': '1', '124': '1', '125': '1', '126': '2', '127': '0', '128': '1', '129': '3', '130': '0', '131': '0', '132': '0', '133': '1', '134': '1', '135': '0', '136': '0', '137': '0', '138': '5', '139': '1', '140': '0', '141': '2', '142': '0', '143': '1', '144': '2', '145': '1', '146': '4', '147': '1', '148': '1', '149': '2', '150': '5', '151': '2', '152': '1', '153': '3', '154': '1', '155': '1', '156': '1', '157': '2', '158': '1', '159': '3', '160': '3', '161': '0', '162': '2', '163': '0', '164': '0', '165': '1', '166': '1', '167': '1', '168': '0', '169': '3', '170': '2', '171': '0', '172': '1', '173': '3', '174': '1', '175': '1', '176': '1', '177': '2', '178': '1', '179': '1', '180': '1', '181': '3', '182': '6', '183': '0', '184': '4', '185': '0', '186': '1', '187': '2', '188': '2', '189': '2', '190': '1', '191': '1', '192': '0', '193': '2', '194': '1', '195': '1', '196': '1', '197': '0', '198': '1', '199': '1', '200': '1', '201': '0', '202': '2', '203': '1', '204': '20', '205': '0', '206': '1', '207': '4', '208': '0', '209': '7', '210': '1', '211': '0', '212': '1', '213': '0', '214': '53', '215': '0', '216': '0', '217': '3', '218': '6', '219': '0', '220': '6', '221': '1', '222': '0', '223': '2', '224': '2', '225': '5', '226': '1', '227': '3', '228': '1', '229': '1', '230': '1', '231': '1', '232': '2', '233': '1', '234': '0', '235': '0', '236': '1', '237': '3', '238': '2', '239': '1', '240': '1', '241': '0', '242': '1', '243': '1', '244': '1', '245': '1', '246': '1', '247': '8', '248': '1', '249': '0', '250': '1', '251': '1', '252': '1', '253': '1', '254': '2', '255': '3'}}\n"
     ]
    }
   ],
   "source": [
    "print(data)"
   ]
  },
  {
   "cell_type": "markdown",
   "metadata": {},
   "source": [
    "Calling the function for Python and checking if it works.\n"
   ]
  },
  {
   "cell_type": "code",
   "execution_count": 19,
   "metadata": {},
   "outputs": [
    {
     "data": {
      "text/plain": [
       "('Python', 1173)"
      ]
     },
     "execution_count": 19,
     "metadata": {},
     "output_type": "execute_result"
    }
   ],
   "source": [
    "get_number_of_jobs_T(\"Python\")"
   ]
  },
  {
   "cell_type": "markdown",
   "metadata": {},
   "source": [
    "#### Write a function to find number of jobs in US for a location of your choice\n"
   ]
  },
  {
   "cell_type": "code",
   "execution_count": 40,
   "metadata": {},
   "outputs": [],
   "source": [
    "def get_number_of_jobs_L(location):\n",
    "    number_of_jobs = 0\n",
    "    payload= {\"Location\":location}\n",
    "    response = requests.get(api_url,params=payload)\n",
    "    if response.ok: \n",
    "        data = response.json() \n",
    "        number_of_jobs += len(data)\n",
    "    else:\n",
    "        number_of_jobs += len(data)\n",
    "        \n",
    "    return location,number_of_jobs"
   ]
  },
  {
   "cell_type": "markdown",
   "metadata": {},
   "source": [
    "Call the function for Los Angeles and check if it is working.\n"
   ]
  },
  {
   "cell_type": "code",
   "execution_count": 41,
   "metadata": {},
   "outputs": [
    {
     "data": {
      "text/plain": [
       "('Los Angeles', 640)"
      ]
     },
     "execution_count": 41,
     "metadata": {},
     "output_type": "execute_result"
    }
   ],
   "source": [
    "#your code goes here\n",
    "get_number_of_jobs_L(\"Los Angeles\")"
   ]
  },
  {
   "cell_type": "markdown",
   "metadata": {},
   "source": [
    "### Store the results in an excel file\n"
   ]
  },
  {
   "cell_type": "markdown",
   "metadata": {},
   "source": [
    "Call the API for all the given technologies above and write the results in an excel spreadsheet.\n"
   ]
  },
  {
   "cell_type": "markdown",
   "metadata": {},
   "source": [
    "If you do not know how create excel file using python, double click here for **hints**.\n",
    "\n",
    "<!--\n",
    "\n",
    "from openpyxl import Workbook        # import Workbook class from module openpyxl\n",
    "wb=Workbook()                        # create a workbook object\n",
    "ws=wb.active                         # use the active worksheet\n",
    "ws.append(['Country','Continent'])   # add a row with two columns 'Country' and 'Continent'\n",
    "ws.append(['Eygpt','Africa'])        # add a row with two columns 'Egypt' and 'Africa'\n",
    "ws.append(['India','Asia'])          # add another row\n",
    "ws.append(['France','Europe'])       # add another row\n",
    "wb.save(\"countries.xlsx\")            # save the workbook into a file called countries.xlsx\n",
    "\n",
    "\n",
    "-->\n"
   ]
  },
  {
   "cell_type": "markdown",
   "metadata": {},
   "source": [
    "Create a python list of all locations for which you need to find the number of jobs postings.\n"
   ]
  },
  {
   "cell_type": "code",
   "execution_count": 22,
   "metadata": {},
   "outputs": [
    {
     "data": {
      "text/plain": [
       "['C',\n",
       " 'C#',\n",
       " 'C++',\n",
       " 'Java',\n",
       " 'JavaScript',\n",
       " 'Python',\n",
       " 'Scala',\n",
       " 'Oracle',\n",
       " 'SQL Server',\n",
       " 'MySQL Server',\n",
       " 'PostgreSQL',\n",
       " 'MongoDB']"
      ]
     },
     "execution_count": 22,
     "metadata": {},
     "output_type": "execute_result"
    }
   ],
   "source": [
    "#your code goes here\n",
    "technologies = ['C','C#','C++','Java','JavaScript','Python','Scala','Oracle','SQL Server','MySQL Server','PostgreSQL','MongoDB']\n",
    "technologies"
   ]
  },
  {
   "cell_type": "markdown",
   "metadata": {},
   "source": [
    "Import libraries required to create excel spreadsheet\n"
   ]
  },
  {
   "cell_type": "code",
   "execution_count": 23,
   "metadata": {},
   "outputs": [
    {
     "name": "stdout",
     "output_type": "stream",
     "text": [
      "Requirement already satisfied: openpyxl in c:\\users\\acer\\anaconda3\\lib\\site-packages (3.0.7)\n",
      "Requirement already satisfied: et-xmlfile in c:\\users\\acer\\anaconda3\\lib\\site-packages (from openpyxl) (1.0.1)\n"
     ]
    }
   ],
   "source": [
    "# your code goes here\n",
    "!pip3 install openpyxl\n",
    "from openpyxl import Workbook"
   ]
  },
  {
   "cell_type": "markdown",
   "metadata": {},
   "source": [
    "Create a workbook and select the active worksheet\n"
   ]
  },
  {
   "cell_type": "code",
   "execution_count": 24,
   "metadata": {},
   "outputs": [],
   "source": [
    "# your code goes here\n",
    "wb=Workbook()\n",
    "ws=wb.active"
   ]
  },
  {
   "cell_type": "markdown",
   "metadata": {},
   "source": [
    "Find the number of jobs postings for each of the location in the above list.\n",
    "Write the Location name and the number of jobs postings into the excel spreadsheet.\n"
   ]
  },
  {
   "cell_type": "code",
   "execution_count": 25,
   "metadata": {},
   "outputs": [],
   "source": [
    "#your code goes here\n",
    "ws.append(['Technology','Number_of_Jobs'])\n",
    "\n",
    "for i in technologies:\n",
    "    ws.append(get_number_of_jobs_T(i))"
   ]
  },
  {
   "cell_type": "markdown",
   "metadata": {},
   "source": [
    "Save into an excel spreadsheet named 'job-postings.xlsx'.\n"
   ]
  },
  {
   "cell_type": "code",
   "execution_count": 39,
   "metadata": {},
   "outputs": [],
   "source": [
    "#your code goes here\n",
    "wb.save(\"job-postings.xlsx\")"
   ]
  },
  {
   "cell_type": "markdown",
   "metadata": {},
   "source": [
    "#### In the similar way, you can try for below given technologies and results  can be stored in an excel sheet.\n"
   ]
  },
  {
   "cell_type": "markdown",
   "metadata": {},
   "source": [
    "Collect the number of job postings for the following languages using the API:\n",
    "\n",
    "*   C\n",
    "*   C#\n",
    "*   C++\n",
    "*   Java\n",
    "*   JavaScript\n",
    "*   Python\n",
    "*   Scala\n",
    "*   Oracle\n",
    "*   SQL Server\n",
    "*   MySQL Server\n",
    "*   PostgreSQL\n",
    "*   MongoDB\n"
   ]
  },
  {
   "cell_type": "code",
   "execution_count": 42,
   "metadata": {},
   "outputs": [],
   "source": [
    "# your code goes here\n",
    "wb1=Workbook()\n",
    "ws=wb1.active"
   ]
  },
  {
   "cell_type": "code",
   "execution_count": 43,
   "metadata": {},
   "outputs": [],
   "source": [
    "location=['Los Angeles','New York','San Francisco','Washington DC','Seattle','Austin','Detroit']"
   ]
  },
  {
   "cell_type": "code",
   "execution_count": 44,
   "metadata": {},
   "outputs": [],
   "source": [
    "ws.append(['Location Name','Number of Jobs'])\n",
    "\n",
    "for i in location:\n",
    "    ws.append(get_number_of_jobs_L(i))"
   ]
  },
  {
   "cell_type": "code",
   "execution_count": 46,
   "metadata": {},
   "outputs": [],
   "source": [
    "wb1.save(\"job-postings-loc.xlsx\")"
   ]
  },
  {
   "cell_type": "code",
   "execution_count": null,
   "metadata": {},
   "outputs": [],
   "source": []
  },
  {
   "cell_type": "markdown",
   "metadata": {},
   "source": [
    "## Author\n"
   ]
  },
  {
   "cell_type": "code",
   "execution_count": null,
   "metadata": {},
   "outputs": [],
   "source": []
  },
  {
   "cell_type": "markdown",
   "metadata": {},
   "source": [
    "Ayushi Jain\n"
   ]
  },
  {
   "cell_type": "markdown",
   "metadata": {},
   "source": [
    "### Other Contributors\n"
   ]
  },
  {
   "cell_type": "markdown",
   "metadata": {},
   "source": [
    "Rav Ahuja\n",
    "\n",
    "Lakshmi Holla\n",
    "\n",
    "Malika\n"
   ]
  },
  {
   "cell_type": "markdown",
   "metadata": {},
   "source": [
    "## Change Log\n"
   ]
  },
  {
   "cell_type": "markdown",
   "metadata": {},
   "source": [
    "| Date (YYYY-MM-DD) | Version | Changed By        | Change Description                 |\n",
    "| ----------------- | ------- | ----------------- | ---------------------------------- |\n",
    "| 2022-01-19        | 0.3     | Lakshmi Holla     | Added changes in the markdown      |\n",
    "| 2021-06-25        | 0.2     | Malika            | Updated GitHub job json link       |\n",
    "| 2020-10-17        | 0.1     | Ramesh Sannareddy | Created initial version of the lab |\n"
   ]
  },
  {
   "cell_type": "markdown",
   "metadata": {},
   "source": [
    "Copyright © 2022 IBM Corporation. All rights reserved.\n"
   ]
  }
 ],
 "metadata": {
  "kernelspec": {
   "display_name": "Python 3",
   "language": "python",
   "name": "python3"
  },
  "language_info": {
   "codemirror_mode": {
    "name": "ipython",
    "version": 3
   },
   "file_extension": ".py",
   "mimetype": "text/x-python",
   "name": "python",
   "nbconvert_exporter": "python",
   "pygments_lexer": "ipython3",
   "version": "3.8.8"
  }
 },
 "nbformat": 4,
 "nbformat_minor": 4
}
